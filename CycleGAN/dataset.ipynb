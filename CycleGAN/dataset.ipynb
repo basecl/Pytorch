{
 "cells": [
  {
   "cell_type": "code",
   "execution_count": 4,
   "id": "1d25dc3d",
   "metadata": {},
   "outputs": [],
   "source": [
    "from PIL import Image\n",
    "import os\n",
    "from torch.utils.data import Dataset\n",
    "import numpy as np"
   ]
  },
  {
   "cell_type": "code",
   "execution_count": 5,
   "id": "29c38640",
   "metadata": {},
   "outputs": [],
   "source": [
    "class SummerWinterDataset(Dataset):\n",
    "    def __init__(self, root_winter, root_summer, transform=None):\n",
    "        self.root_winter = root_winter\n",
    "        self.root_summer = root_summer\n",
    "        self.transform = transform\n",
    "\n",
    "        self.winter_images = os.listdir(root_winter)\n",
    "        self.summer_images = os.listdir(root_summer)\n",
    "        self.length_dataset = max(len(self.winter_images), len(self.summer_images)) \n",
    "        self.winter_len = len(self.winter_images)\n",
    "        self.summer_len = len(self.summer_images)\n",
    "\n",
    "    def __len__(self):\n",
    "        return self.length_dataset\n",
    "\n",
    "    def __getitem__(self, index):\n",
    "        winter_img = self.winter_images[index % self.winter_len]\n",
    "        summer_img = self.summer_images[index % self.summer_len]\n",
    "\n",
    "        winter_path = os.path.join(self.root_winter, winter_img)\n",
    "        summer_path = os.path.join(self.root_summer, summer_img)\n",
    "\n",
    "        winter_img = np.array(Image.open(winter_path).convert(\"RGB\"))\n",
    "        summer_img = np.array(Image.open(summer_path).convert(\"RGB\"))\n",
    "\n",
    "        if self.transform:\n",
    "            augmentations = self.transform(image=winter_img, image0=summer_img)\n",
    "            winter_img = augmentations[\"image\"]\n",
    "            summer_img = augmentations[\"image0\"]\n",
    "\n",
    "        return winter_img, summer_img\n"
   ]
  },
  {
   "cell_type": "code",
   "execution_count": null,
   "id": "f49fd86b",
   "metadata": {},
   "outputs": [],
   "source": []
  },
  {
   "cell_type": "code",
   "execution_count": null,
   "id": "c632089e",
   "metadata": {},
   "outputs": [],
   "source": []
  },
  {
   "cell_type": "code",
   "execution_count": null,
   "id": "931f4aa9",
   "metadata": {},
   "outputs": [],
   "source": []
  }
 ],
 "metadata": {
  "kernelspec": {
   "display_name": "Python 3 (ipykernel)",
   "language": "python",
   "name": "python3"
  },
  "language_info": {
   "codemirror_mode": {
    "name": "ipython",
    "version": 3
   },
   "file_extension": ".py",
   "mimetype": "text/x-python",
   "name": "python",
   "nbconvert_exporter": "python",
   "pygments_lexer": "ipython3",
   "version": "3.9.13"
  }
 },
 "nbformat": 4,
 "nbformat_minor": 5
}
