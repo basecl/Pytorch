{
 "cells": [
  {
   "cell_type": "code",
   "execution_count": 5,
   "id": "daea1e90",
   "metadata": {},
   "outputs": [],
   "source": [
    "import torch\n",
    "import torch.nn as nn\n",
    "import albumentations as A\n",
    "from albumentations.pytorch import ToTensorV2"
   ]
  },
  {
   "cell_type": "code",
   "execution_count": 6,
   "id": "fc118ec4",
   "metadata": {},
   "outputs": [],
   "source": [
    "class config:\n",
    "    DEVICE = \"cuda\" if torch.cuda.is_available() else \"cpu\"\n",
    "    TRAIN_DIR = \"data/train1\"\n",
    "    VAL_DIR = \"data/val1\"\n",
    "    LEARNING_RATE = 2e-4\n",
    "    BATCH_SIZE = 16\n",
    "    NUM_WORKERS = 0\n",
    "    IMAGE_SIZE = 256\n",
    "    CHANNELS_IMG = 3\n",
    "    L1_LAMBDA = 100\n",
    "    LAMBDA_GP = 10\n",
    "    NUM_EPOCHS = 500\n",
    "    LOAD_MODEL = False\n",
    "    SAVE_MODEL = True\n",
    "    CHECKPOINT_DISC = \"disc.pth.tar\"\n",
    "    CHECKPOINT_GEN = \"gen.pth.tar\"\n",
    "\n",
    "    both_transform = A.Compose(\n",
    "        [A.Resize(width=256, height=256),], additional_targets={\"image0\": \"image\"},\n",
    "    )\n",
    "\n",
    "    transform_only_input = A.Compose(\n",
    "        [\n",
    "            A.HorizontalFlip(p=0.5),\n",
    "            A.ColorJitter(p=0.2),\n",
    "            A.Normalize(mean=[0.5, 0.5, 0.5], std=[0.5, 0.5, 0.5], max_pixel_value=255.0,),\n",
    "            ToTensorV2(),\n",
    "        ]\n",
    "    )\n",
    "\n",
    "    transform_only_mask = A.Compose(\n",
    "        [\n",
    "            A.Normalize(mean=[0.5, 0.5, 0.5], std=[0.5, 0.5, 0.5], max_pixel_value=255.0,),\n",
    "            ToTensorV2(),\n",
    "        ]\n",
    "    )"
   ]
  },
  {
   "cell_type": "code",
   "execution_count": null,
   "id": "7e1088a8",
   "metadata": {},
   "outputs": [],
   "source": []
  }
 ],
 "metadata": {
  "kernelspec": {
   "display_name": "Python 3 (ipykernel)",
   "language": "python",
   "name": "python3"
  },
  "language_info": {
   "codemirror_mode": {
    "name": "ipython",
    "version": 3
   },
   "file_extension": ".py",
   "mimetype": "text/x-python",
   "name": "python",
   "nbconvert_exporter": "python",
   "pygments_lexer": "ipython3",
   "version": "3.9.13"
  }
 },
 "nbformat": 4,
 "nbformat_minor": 5
}
