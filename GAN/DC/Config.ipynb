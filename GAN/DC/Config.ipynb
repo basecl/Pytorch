{
 "cells": [
  {
   "cell_type": "code",
   "execution_count": 9,
   "id": "350f6efb",
   "metadata": {},
   "outputs": [],
   "source": [
    "import torch\n",
    "import torch.nn as nn"
   ]
  },
  {
   "cell_type": "code",
   "execution_count": 10,
   "id": "5a491ca5",
   "metadata": {},
   "outputs": [],
   "source": [
    "class Config:\n",
    "    device = \"cuda\" if torch.cuda.is_available() else \"cpu\"\n",
    "    lr = 2e-4\n",
    "    z_dim = 100\n",
    "    batch_size = 128\n",
    "    num_epochs = 5\n",
    "    channels_img = 3\n",
    "    image_size = 64\n",
    "    featurees_disc = 64\n",
    "    feature_gen =64\n",
    "    "
   ]
  },
  {
   "cell_type": "code",
   "execution_count": null,
   "id": "807b5389",
   "metadata": {},
   "outputs": [],
   "source": []
  }
 ],
 "metadata": {
  "kernelspec": {
   "display_name": "Python 3 (ipykernel)",
   "language": "python",
   "name": "python3"
  },
  "language_info": {
   "codemirror_mode": {
    "name": "ipython",
    "version": 3
   },
   "file_extension": ".py",
   "mimetype": "text/x-python",
   "name": "python",
   "nbconvert_exporter": "python",
   "pygments_lexer": "ipython3",
   "version": "3.9.13"
  }
 },
 "nbformat": 4,
 "nbformat_minor": 5
}
