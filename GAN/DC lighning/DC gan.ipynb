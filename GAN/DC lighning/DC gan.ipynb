{
 "cells": [
  {
   "cell_type": "code",
   "execution_count": 143,
   "id": "a42ee991",
   "metadata": {},
   "outputs": [],
   "source": [
    "%run Model.ipynb"
   ]
  },
  {
   "cell_type": "code",
   "execution_count": 144,
   "id": "0a118f7d",
   "metadata": {},
   "outputs": [],
   "source": [
    "import torch \n",
    "import torch.nn as nn\n",
    "import torch.nn.functional as F\n",
    "import torch.optim as optim\n",
    "import numpy as np\n",
    "import torchvision\n",
    "from torchvision import transforms\n",
    "import torchvision.datasets as datasets\n",
    "import torchvision.transforms as transforms\n",
    "import pytorch_lightning as pl\n",
    "from torch.utils.data import DataLoader"
   ]
  },
  {
   "cell_type": "code",
   "execution_count": 145,
   "id": "e2d2bf96",
   "metadata": {},
   "outputs": [],
   "source": [
    "class MnistData(pl.LightningDataModule):\n",
    "    def __init__(self, batch_size, num_workers, pin_memory):\n",
    "        super().__init__()\n",
    "        self.batch_size = batch_size\n",
    "        self.num_workers = num_workers\n",
    "        self.pin_memory = pin_memory\n",
    "        self.transform = transforms.Compose([\n",
    "            transforms.Resize((image_size,image_size)),\n",
    "            transforms.ToTensor(),\n",
    "            transforms.Normalize([0.5 for _ in range(channels_img)],[0.5 for _ in range(channels_img)]),])\n",
    "        \n",
    "    def prepare_data(self):\n",
    "        mnist_train = datasets.MNIST('./data', train=True, download=True,)\n",
    "        mnist_test = datasets.MNIST('./data', train=False, download=True,)\n",
    "\n",
    "    def setup(self, stage=None):\n",
    "        self.train_dataset = datasets.MNIST(root='./data', train=True, download=True, transform=self.transform)\n",
    "        self.test_dataset = datasets.MNIST(root='./data', train=False, download=True, transform=self.transform)\n",
    "        \n",
    "    def train_dataloader(self):\n",
    "        return DataLoader(self.train_dataset, batch_size=self.batch_size, shuffle=True, num_workers=self.num_workers, pin_memory=self.pin_memory)\n",
    "    \n",
    "    def val_dataloader(self):\n",
    "        return DataLoader(self.test_dataset, batch_size=self.batch_size, shuffle=False, num_workers=self.num_workers, pin_memory=self.pin_memory)\n",
    "    \n",
    "    def test_dataloader(self):\n",
    "        return DataLoader(self.test_dataset, batch_size=self.batch_size, shuffle=False, num_workers=self.num_workers, pin_memory=self.pin_memory)\n",
    "    "
   ]
  },
  {
   "cell_type": "code",
   "execution_count": 146,
   "id": "dd40ef69",
   "metadata": {},
   "outputs": [],
   "source": [
    "z_dim = 100\n",
    "batch_size = 128\n",
    "num_epochs = 5\n",
    "channels_img = 1\n",
    "image_size = 64\n",
    "featurees_disc = 64\n",
    "feature_gen =64"
   ]
  },
  {
   "cell_type": "code",
   "execution_count": 149,
   "id": "b2c2c832",
   "metadata": {},
   "outputs": [],
   "source": [
    "dm = MnistData(batch_size, num_workers=4, pin_memory=True)"
   ]
  },
  {
   "cell_type": "code",
   "execution_count": 153,
   "id": "2d21db14",
   "metadata": {
    "scrolled": true
   },
   "outputs": [
    {
     "name": "stderr",
     "output_type": "stream",
     "text": [
      "GPU available: False, used: False\n",
      "TPU available: False, using: 0 TPU cores\n",
      "IPU available: False, using: 0 IPUs\n",
      "HPU available: False, using: 0 HPUs\n",
      "\n",
      "  | Name     | Type          | Params\n",
      "-------------------------------------------\n",
      "0 | D        | Discriminator | 2.8 M \n",
      "1 | G        | Generator     | 12.7 M\n",
      "2 | BCE_loss | BCELoss       | 0     \n",
      "-------------------------------------------\n",
      "15.4 M    Trainable params\n",
      "0         Non-trainable params\n",
      "15.4 M    Total params\n",
      "61.672    Total estimated model params size (MB)\n"
     ]
    },
    {
     "data": {
      "application/vnd.jupyter.widget-view+json": {
       "model_id": "e0d5ca3a90ee4725a166779b1c80ddf4",
       "version_major": 2,
       "version_minor": 0
      },
      "text/plain": [
       "Training: 0it [00:00, ?it/s]"
      ]
     },
     "metadata": {},
     "output_type": "display_data"
    }
   ],
   "source": [
    "trainer = pl.Trainer(accelerator = \"auto\",devices=1 if torch.cuda.is_available() else None, max_epochs=num_epochs)\n",
    "trainer.fit(Modelpt(z_dim, channels_img, feature_gen, featurees_disc, batch_size), dm)"
   ]
  },
  {
   "cell_type": "code",
   "execution_count": null,
   "id": "746778c4",
   "metadata": {},
   "outputs": [],
   "source": []
  }
 ],
 "metadata": {
  "kernelspec": {
   "display_name": "Python 3 (ipykernel)",
   "language": "python",
   "name": "python3"
  },
  "language_info": {
   "codemirror_mode": {
    "name": "ipython",
    "version": 3
   },
   "file_extension": ".py",
   "mimetype": "text/x-python",
   "name": "python",
   "nbconvert_exporter": "python",
   "pygments_lexer": "ipython3",
   "version": "3.9.13"
  }
 },
 "nbformat": 4,
 "nbformat_minor": 5
}
