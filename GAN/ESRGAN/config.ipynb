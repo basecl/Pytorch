{
 "cells": [
  {
   "cell_type": "code",
   "execution_count": 2,
   "id": "d965cbd9",
   "metadata": {},
   "outputs": [],
   "source": [
    "import torch\n",
    "from PIL import Image\n",
    "import albumentations as A\n",
    "from albumentations.pytorch import ToTensorV2"
   ]
  },
  {
   "cell_type": "code",
   "execution_count": 3,
   "id": "2df76438",
   "metadata": {},
   "outputs": [],
   "source": [
    "class config:\n",
    "    LOAD_MODEL = False\n",
    "    SAVE_MODEL = True\n",
    "    CHECKPOINT_GEN = \"gen.pth\"\n",
    "    CHECKPOINT_DISC = \"disc.pth\"\n",
    "    DEVICE = \"cuda\" if torch.cuda.is_available() else \"cpu\"\n",
    "    LEARNING_RATE = 1e-4\n",
    "    NUM_EPOCHS = 10000\n",
    "    BATCH_SIZE = 16\n",
    "    LAMBDA_GP = 10\n",
    "    NUM_WORKERS = 0\n",
    "    HIGH_RES = 128\n",
    "    LOW_RES = HIGH_RES // 4\n",
    "    IMG_CHANNELS = 3\n",
    "\n",
    "    highres_transform = A.Compose(\n",
    "        [\n",
    "            A.Normalize(mean=[0, 0, 0], std=[1, 1, 1]),\n",
    "            ToTensorV2(),\n",
    "        ]\n",
    "    )\n",
    "\n",
    "    lowres_transform = A.Compose(\n",
    "        [\n",
    "            A.Resize(width=LOW_RES, height=LOW_RES, interpolation=Image.Resampling.BICUBIC),\n",
    "            A.Normalize(mean=[0, 0, 0], std=[1, 1, 1]),\n",
    "            ToTensorV2(),\n",
    "        ]\n",
    "    )\n",
    "\n",
    "    both_transforms = A.Compose(\n",
    "        [\n",
    "            A.RandomCrop(width=HIGH_RES, height=HIGH_RES),\n",
    "            A.HorizontalFlip(p=0.5),\n",
    "            A.RandomRotate90(p=0.5),\n",
    "        ]\n",
    "    )\n",
    "\n",
    "    test_transform = A.Compose(\n",
    "        [\n",
    "            A.Normalize(mean=[0, 0, 0], std=[1, 1, 1]),\n",
    "            ToTensorV2(),\n",
    "        ]\n",
    "    )"
   ]
  },
  {
   "cell_type": "code",
   "execution_count": null,
   "id": "bfd5de0d",
   "metadata": {},
   "outputs": [],
   "source": []
  }
 ],
 "metadata": {
  "kernelspec": {
   "display_name": "Python 3 (ipykernel)",
   "language": "python",
   "name": "python3"
  },
  "language_info": {
   "codemirror_mode": {
    "name": "ipython",
    "version": 3
   },
   "file_extension": ".py",
   "mimetype": "text/x-python",
   "name": "python",
   "nbconvert_exporter": "python",
   "pygments_lexer": "ipython3",
   "version": "3.9.13"
  }
 },
 "nbformat": 4,
 "nbformat_minor": 5
}
