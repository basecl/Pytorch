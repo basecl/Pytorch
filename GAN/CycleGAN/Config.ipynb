{
 "cells": [
  {
   "cell_type": "code",
   "execution_count": 3,
   "id": "49ab16d4",
   "metadata": {},
   "outputs": [],
   "source": [
    "import torch\n",
    "import albumentations as A\n",
    "from albumentations.pytorch import ToTensorV2"
   ]
  },
  {
   "cell_type": "code",
   "execution_count": 4,
   "id": "aaccb807",
   "metadata": {},
   "outputs": [],
   "source": [
    "class Config:\n",
    "    DEVICE = \"cuda\" if torch.cuda.is_available() else \"cpu\"\n",
    "    TRAIN_DIR = \"data/train\"\n",
    "    VAL_DIR = \"data/val\"\n",
    "    BATCH_SIZE = 3\n",
    "    LEARNING_RATE = 1e-5\n",
    "    LAMBDA_IDENTITY = 0.0\n",
    "    LAMBDA_CYCLE = 10\n",
    "    NUM_EPOCHS = 10\n",
    "    LOAD_MODEL = False\n",
    "    SAVE_MODEL = True\n",
    "    CHECKPOINT_GEN_H = \"genh.pth.tar\"\n",
    "    CHECKPOINT_GEN_Z = \"genz.pth.tar\"\n",
    "    CHECKPOINT_CRITIC_H = \"critich.pth.tar\"\n",
    "    CHECKPOINT_CRITIC_Z = \"criticz.pth.tar\"\n",
    "\n",
    "    transforms = A.Compose(\n",
    "        [\n",
    "            A.Resize(width=256, height=256),\n",
    "            A.HorizontalFlip(p=0.5),\n",
    "            A.Normalize(mean=[0.5, 0.5, 0.5], std=[0.5, 0.5, 0.5], max_pixel_value=255),\n",
    "            ToTensorV2(),\n",
    "        ],\n",
    "        additional_targets={\"image0\": \"image\"},\n",
    "    )"
   ]
  },
  {
   "cell_type": "code",
   "execution_count": null,
   "id": "428bf8fa",
   "metadata": {},
   "outputs": [],
   "source": []
  }
 ],
 "metadata": {
  "kernelspec": {
   "display_name": "Python 3 (ipykernel)",
   "language": "python",
   "name": "python3"
  },
  "language_info": {
   "codemirror_mode": {
    "name": "ipython",
    "version": 3
   },
   "file_extension": ".py",
   "mimetype": "text/x-python",
   "name": "python",
   "nbconvert_exporter": "python",
   "pygments_lexer": "ipython3",
   "version": "3.9.13"
  }
 },
 "nbformat": 4,
 "nbformat_minor": 5
}
