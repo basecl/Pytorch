{
 "cells": [
  {
   "cell_type": "code",
   "execution_count": 1,
   "id": "e67d2241-50c4-46a6-954b-532aea361494",
   "metadata": {},
   "outputs": [],
   "source": [
    "import torch\n",
    "import torch.nn as nn\n",
    "import pandas as pd\n",
    "import pytorch_lightning as pl\n",
    "import torch.nn.functional as F\n",
    "from torch_geometric.nn import GCNConv\n",
    "from torch.utils.data import Dataset, DataLoader\n",
    "from sklearn.model_selection import train_test_split\n",
    "import torchmetrics"
   ]
  },
  {
   "cell_type": "code",
   "execution_count": 2,
   "id": "0326d241-4d1c-41fb-9060-59a368f58084",
   "metadata": {},
   "outputs": [],
   "source": [
    "class MovieLens(Dataset):\n",
    "    def __init__(self, df_ratings):\n",
    "        self.df_ratings = df_ratings\n",
    "\n",
    "    def __len__(self):\n",
    "        return len(self.df_ratings)\n",
    "\n",
    "    def __getitem__(self, idx):\n",
    "        row = self.df_ratings.iloc[idx]\n",
    "        user_id = torch.tensor(int(row[\"userId\"]), dtype=torch.long)\n",
    "        movie_id = torch.tensor(int(row[\"movieId\"]), dtype=torch.long)\n",
    "        rating = torch.tensor(row[\"rating\"], dtype=torch.float)\n",
    "        return user_id, movie_id, rating\n"
   ]
  },
  {
   "cell_type": "code",
   "execution_count": 3,
   "id": "effad5ae-e5ee-4e3b-ad6a-1dd3fe80a25a",
   "metadata": {},
   "outputs": [],
   "source": [
    "class LightningData(pl.LightningDataModule):\n",
    "    def __init__(self, batch_size):\n",
    "        super().__init__()\n",
    "        self.batch_size = batch_size\n",
    "\n",
    "    def prepare_data(self):\n",
    "        self.df_ratings = pd.read_csv(\n",
    "            \"ratings.csv\",\n",
    "            engine=\"python\",\n",
    "        )\n",
    "\n",
    "        # split into train and test \n",
    "        self.df_ratings_train, self.df_ratings_val = train_test_split(\n",
    "            self.df_ratings, test_size=0.2, random_state=42, train_size=0.8\n",
    "        )\n",
    "\n",
    "    def setup(self, stage=None):\n",
    "        self.dataset_train = MovieLens(self.df_ratings_train)\n",
    "        self.dataset_val = MovieLens(self.df_ratings_val)\n",
    "\n",
    "    def train_dataloader(self):\n",
    "        return DataLoader(self.dataset_train, batch_size=self.batch_size, num_workers=6)\n",
    "\n",
    "    def val_dataloader(self):\n",
    "        return DataLoader(self.dataset_train, batch_size=self.batch_size, num_workers=2)\n"
   ]
  },
  {
   "cell_type": "code",
   "execution_count": 4,
   "id": "480acbbb-e2e0-4888-81e2-816ee7fe4dc7",
   "metadata": {},
   "outputs": [],
   "source": [
    "class Net(nn.Module):\n",
    "    def __init__(self, n_users, n_movies, n_factors=50):\n",
    "        super().__init__()\n",
    "        self.user_factors = nn.Embedding(n_users, n_factors)\n",
    "        self.movie_factors = nn.Embedding(n_movies, n_factors)\n",
    "        self.lin = nn.Linear(n_factors * 2, 1)\n",
    "\n",
    "    def forward(self, user, movie):\n",
    "        user_embedding = self.user_factors(user)\n",
    "        movie_embedding = self.movie_factors(movie)\n",
    "        x = torch.cat([user_embedding, movie_embedding], dim=1)\n",
    "        return self.lin(x)"
   ]
  },
  {
   "cell_type": "code",
   "execution_count": 5,
   "id": "3c00c4bf-ae64-48ca-bc23-f206961c3153",
   "metadata": {},
   "outputs": [],
   "source": [
    "class NetLightning(pl.LightningModule):\n",
    "    def __init__(self, n_users, n_movies, n_factors=50, lr=3e-4):\n",
    "        super().__init__()\n",
    "        self.num_users = n_users\n",
    "        self.num_movies = n_movies\n",
    "        self.net = Net(n_users, n_movies, n_factors)\n",
    "        self.loss_fn = nn.MSELoss()\n",
    "        self.MAE = torchmetrics.MeanAbsoluteError()\n",
    "        self.lr = lr\n",
    "\n",
    "    def forward(self, user, movie):\n",
    "        return self.net(user, movie)\n",
    "\n",
    "    def training_step(self, batch, batch_idx):\n",
    "        user, movie, rating = batch\n",
    "        out = self.forward(user, movie)\n",
    "        mae = self.MAE(out.squeeze(1), rating.float())\n",
    "        loss = self.loss_fn(out.squeeze(1), rating.float())\n",
    "        self.log_dict({\"train_loss\": loss, \"train_mae\": mae}, on_step=False, on_epoch=True, prog_bar=True)\n",
    "        return loss\n",
    "    \n",
    "    def validation_step(self, batch, batch_idx):\n",
    "        user, movie, rating = batch\n",
    "        out = self.forward(user, movie)\n",
    "        mae = self.MAE(out.squeeze(1), rating.float())\n",
    "        loss = self.loss_fn(out.squeeze(1), rating.float())\n",
    "        self.log_dict({\"val_loss\": loss, \"val_mae\": mae}, on_step=False, on_epoch=True, prog_bar=True)\n",
    "\n",
    "    def predict_step(self, user_id):\n",
    "        out = self.forward(user_id, torch.arange(0, self.num_movies))\n",
    "        return out\n",
    "\n",
    "    def configure_optimizers(self):\n",
    "        return torch.optim.Adam(self.parameters(), lr=self.lr)"
   ]
  },
  {
   "cell_type": "code",
   "execution_count": null,
   "id": "61b39142-726b-4f9d-a57e-8034fb92ebb9",
   "metadata": {},
   "outputs": [
    {
     "name": "stderr",
     "output_type": "stream",
     "text": [
      "GPU available: False, used: False\n",
      "TPU available: False, using: 0 TPU cores\n",
      "IPU available: False, using: 0 IPUs\n",
      "HPU available: False, using: 0 HPUs\n",
      "\n",
      "  | Name    | Type              | Params\n",
      "----------------------------------------------\n",
      "0 | net     | Net               | 9.7 M \n",
      "1 | loss_fn | MSELoss           | 0     \n",
      "2 | MAE     | MeanAbsoluteError | 0     \n",
      "----------------------------------------------\n",
      "9.7 M     Trainable params\n",
      "0         Non-trainable params\n",
      "9.7 M     Total params\n",
      "38.845    Total estimated model params size (MB)\n"
     ]
    },
    {
     "data": {
      "application/vnd.jupyter.widget-view+json": {
       "model_id": "ba4a623739c347ee952b6c5b97c40f39",
       "version_major": 2,
       "version_minor": 0
      },
      "text/plain": [
       "Sanity Checking: 0it [00:00, ?it/s]"
      ]
     },
     "metadata": {},
     "output_type": "display_data"
    }
   ],
   "source": [
    "dm = LightningData(batch_size=512)\n",
    "dm.prepare_data()\n",
    "dm.setup()\n",
    "\n",
    "num_movies = dm.df_ratings[\"movieId\"].max() + 1\n",
    "num_users = dm.df_ratings[\"userId\"].max() + 1\n",
    "\n",
    "model = NetLightning(num_users, num_movies)\n",
    "trainer = pl.Trainer(max_epochs=10)\n",
    "trainer.fit(model, dm)"
   ]
  },
  {
   "cell_type": "code",
   "execution_count": null,
   "id": "102120c1-7d46-4a6b-aef9-06fcfc494229",
   "metadata": {},
   "outputs": [],
   "source": []
  },
  {
   "cell_type": "code",
   "execution_count": null,
   "id": "1a96cb3d-6595-49b9-808c-c92f1793a435",
   "metadata": {},
   "outputs": [],
   "source": []
  }
 ],
 "metadata": {
  "kernelspec": {
   "display_name": "Python 3 (ipykernel)",
   "language": "python",
   "name": "python3"
  },
  "language_info": {
   "codemirror_mode": {
    "name": "ipython",
    "version": 3
   },
   "file_extension": ".py",
   "mimetype": "text/x-python",
   "name": "python",
   "nbconvert_exporter": "python",
   "pygments_lexer": "ipython3",
   "version": "3.10.9"
  }
 },
 "nbformat": 4,
 "nbformat_minor": 5
}
