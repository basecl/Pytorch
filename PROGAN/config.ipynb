{
 "cells": [
  {
   "cell_type": "code",
   "execution_count": 9,
   "id": "7762d2f7",
   "metadata": {},
   "outputs": [],
   "source": [
    "import cv2\n",
    "import torch\n",
    "from math import log2"
   ]
  },
  {
   "cell_type": "code",
   "execution_count": 11,
   "id": "4b8c1cab",
   "metadata": {},
   "outputs": [],
   "source": [
    "class config:\n",
    "    START_TRAIN_AT_IMG_SIZE = 128\n",
    "    DATASET = 'Trump'\n",
    "    CHECKPOINT_GEN = \"generator.pth\"\n",
    "    CHECKPOINT_CRITIC = \"critic.pth\"\n",
    "    DEVICE = \"cuda\" if torch.cuda.is_available() else \"cpu\"\n",
    "    SAVE_MODEL = True\n",
    "    LOAD_MODEL = False\n",
    "    LEARNING_RATE = 1e-3\n",
    "    BATCH_SIZES = [32, 32, 32, 16, 16, 16, 16, 8, 4]\n",
    "    CHANNELS_IMG = 3\n",
    "    Z_DIM = 256\n",
    "    IN_CHANNELS = 256\n",
    "    CRITIC_ITERATIONS = 1\n",
    "    LAMBDA_GP = 10\n",
    "    PROGRESSIVE_EPOCHS = [30] * len(BATCH_SIZES)\n",
    "    FIXED_NOISE = torch.randn(8, Z_DIM, 1, 1).to(DEVICE)\n",
    "    NUM_WORKERS = 4"
   ]
  },
  {
   "cell_type": "code",
   "execution_count": null,
   "id": "0b82313d",
   "metadata": {},
   "outputs": [],
   "source": []
  }
 ],
 "metadata": {
  "kernelspec": {
   "display_name": "Python 3 (ipykernel)",
   "language": "python",
   "name": "python3"
  },
  "language_info": {
   "codemirror_mode": {
    "name": "ipython",
    "version": 3
   },
   "file_extension": ".py",
   "mimetype": "text/x-python",
   "name": "python",
   "nbconvert_exporter": "python",
   "pygments_lexer": "ipython3",
   "version": "3.9.13"
  }
 },
 "nbformat": 4,
 "nbformat_minor": 5
}
