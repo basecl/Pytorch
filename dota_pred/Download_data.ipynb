{
 "cells": [
  {
   "cell_type": "code",
   "execution_count": 1,
   "id": "05e44cd6-e193-47ab-af54-8dd995dd031e",
   "metadata": {
    "tags": []
   },
   "outputs": [],
   "source": [
    "import requests\n",
    "import pandas as pd\n",
    "import time\n",
    "from operator import itemgetter\n",
    "import csv\n",
    "from functools import lru_cache\n",
    "import logging\n",
    "from dataclasses import dataclass"
   ]
  },
  {
   "cell_type": "code",
   "execution_count": 198,
   "id": "0401651c-0473-43a3-885d-2f6f401dd0b0",
   "metadata": {
    "tags": []
   },
   "outputs": [],
   "source": [
    "logging.basicConfig(level=logging.INFO)\n",
    "logger = logging.getLogger(__name__)"
   ]
  },
  {
   "cell_type": "code",
   "execution_count": 220,
   "id": "37c829b0-770b-40f8-8f0d-18537ba844fe",
   "metadata": {
    "tags": []
   },
   "outputs": [],
   "source": [
    "@lru_cache(maxsize=128)\n",
    "def get_team_matches(team_id):\n",
    "    while True:\n",
    "        try:\n",
    "            team_matches_url = f\"https://api.opendota.com/api/teams/{team_id}/matches\"\n",
    "            response = requests.get(team_matches_url)\n",
    "            response.raise_for_status()\n",
    "            return response.json()\n",
    "        \n",
    "        except (requests.RequestException, ValueError) as e:\n",
    "            logging.warning(f\"Error getting team matches for team_id {team_id}: {e}\")\n",
    "            logging.info(\"Retrying in 60 seconds...\")\n",
    "            time.sleep(60)\n"
   ]
  },
  {
   "cell_type": "code",
   "execution_count": 210,
   "id": "6cc7cce5-e52e-474a-aa66-427694f7cd56",
   "metadata": {
    "tags": []
   },
   "outputs": [],
   "source": [
    "@dataclass\n",
    "class config:\n",
    "    key_to_player = ['account_id','win','hero_id']\n",
    "    keys_to_pick_bans = ['is_pick', 'hero_id', 'team', 'order']"
   ]
  },
  {
   "cell_type": "code",
   "execution_count": 211,
   "id": "cdcedc88-1a67-4639-8b4f-9e85707c072e",
   "metadata": {
    "tags": []
   },
   "outputs": [],
   "source": [
    "team_id = (7391077,8728920,1061269,8605863,8894818,15,7119388,8254400,7422789,8260983,8291895,8599101,8255756,39,8255888,8597976,8724984,8574561,8244493,2163)\n",
    "all_matches_data = []"
   ]
  },
  {
   "cell_type": "code",
   "execution_count": 212,
   "id": "2d97087a-2844-4c84-a922-01ae55b3c69a",
   "metadata": {
    "tags": []
   },
   "outputs": [
    {
     "name": "stderr",
     "output_type": "stream",
     "text": [
      "INFO:root:Data saved to all_match.csv\n"
     ]
    }
   ],
   "source": [
    "for team in team_id:\n",
    "    team_matches = get_team_matches(team)\n",
    "    for match in team_matches:\n",
    "        match_id = match['match_id']\n",
    "\n",
    "        radiant_team, dire_team = (team, match['opposing_team_id']) if match['radiant_win'] else (match['opposing_team_id'], team)\n",
    "\n",
    "        match_data = {\n",
    "            'match_id': match_id,\n",
    "            'radian_team': radiant_team,\n",
    "            'dire_team': dire_team,\n",
    "            'win': match['radiant_win'],\n",
    "        }\n",
    "\n",
    "        all_matches_data.append(match_data)\n",
    "\n",
    "df = pd.DataFrame(all_matches_data).drop_duplicates(subset='match_id')\n",
    "\n",
    "csv_filename = 'all_match.csv'\n",
    "df.to_csv('all_match.csv', index=False)\n",
    "logging.info(f'Data saved to {csv_filename}')"
   ]
  }
 ],
 "metadata": {
  "kernelspec": {
   "display_name": "Python 3 (ipykernel)",
   "language": "python",
   "name": "python3"
  },
  "language_info": {
   "codemirror_mode": {
    "name": "ipython",
    "version": 3
   },
   "file_extension": ".py",
   "mimetype": "text/x-python",
   "name": "python",
   "nbconvert_exporter": "python",
   "pygments_lexer": "ipython3",
   "version": "3.10.13"
  }
 },
 "nbformat": 4,
 "nbformat_minor": 5
}
