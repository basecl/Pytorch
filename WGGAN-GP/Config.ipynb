{
 "cells": [
  {
   "cell_type": "code",
   "execution_count": 3,
   "id": "bc4ef6ad",
   "metadata": {},
   "outputs": [],
   "source": [
    "import torch\n",
    "import torch.nn as nn"
   ]
  },
  {
   "cell_type": "code",
   "execution_count": 4,
   "id": "dfbc61b2",
   "metadata": {},
   "outputs": [],
   "source": [
    "class Config:\n",
    "    device = \"cuda\" if torch.cuda.is_available() else \"cpu\"\n",
    "    LEARNING_RATE = 1e-4\n",
    "    BATCH_SIZE = 64\n",
    "    IMAGE_SIZE = 64\n",
    "    CHANNELS_IMG = 3\n",
    "    NUM_CLASSES = 10\n",
    "    GEN_EMBEDDIN = 100\n",
    "    Z_DIM = 100\n",
    "    NUM_EPOCHS = 100\n",
    "    FEATURES_CRITIC = 16\n",
    "    FEATURES_GEN = 16\n",
    "    DISC_ITERATIONS = 5\n",
    "    LAMBDA_GP = 10\n",
    "    CRITIC_ITERATIONS = 5\n"
   ]
  },
  {
   "cell_type": "code",
   "execution_count": null,
   "id": "907e854a",
   "metadata": {},
   "outputs": [],
   "source": []
  }
 ],
 "metadata": {
  "kernelspec": {
   "display_name": "Python 3 (ipykernel)",
   "language": "python",
   "name": "python3"
  },
  "language_info": {
   "codemirror_mode": {
    "name": "ipython",
    "version": 3
   },
   "file_extension": ".py",
   "mimetype": "text/x-python",
   "name": "python",
   "nbconvert_exporter": "python",
   "pygments_lexer": "ipython3",
   "version": "3.9.13"
  }
 },
 "nbformat": 4,
 "nbformat_minor": 5
}
