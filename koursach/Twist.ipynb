{
 "cells": [
  {
   "cell_type": "code",
   "execution_count": 10,
   "id": "cf0c713e-2171-4dad-af92-d9aaafe81c20",
   "metadata": {},
   "outputs": [],
   "source": [
    "import bcrypt\n",
    "from twisted.internet import protocol, reactor\n",
    "from twisted.protocols import basic"
   ]
  },
  {
   "cell_type": "code",
   "execution_count": 15,
   "id": "2edbb7df-34ee-40f2-89ae-5cad139ae4de",
   "metadata": {},
   "outputs": [],
   "source": [
    "class ChatServerProtocol(basic.LineOnlyReceiver):\n",
    "    def __init__(self, factory):\n",
    "        self.factory = factory\n",
    "        self.name = None\n",
    "        self.authenticated = False\n",
    "\n",
    "    def connectionMade(self):\n",
    "        self.sendLine(b\"Welcome to the Twisted Chat!\")\n",
    "        self.sendLine(b\"Please enter your name:\")\n",
    "\n",
    "    def lineReceived(self, line):\n",
    "        try:\n",
    "            if not self.authenticated:\n",
    "                if self.name is None:\n",
    "                    self.name = line.decode().strip()\n",
    "                    self.sendLine(b\"Please enter your password:\")\n",
    "                elif self.password is None:\n",
    "                    self.password = line.decode().strip()\n",
    "                    self.sendLine(b\"Please enter your password again:\")\n",
    "                elif self.password_confirm is None:\n",
    "                    self.password_confirm = line.decode().strip()\n",
    "                    if self.password == self.password_confirm:\n",
    "                        if self.register(self.name, self.password):\n",
    "                            self.authenticated = True\n",
    "                            self.factory.clients[self] = self.name\n",
    "                            self.sendLine(f\"Registration successful. Welcome, {self.name}!\".encode())\n",
    "                            self.sendLine(b\"Type 'quit' to exit.\")\n",
    "                        else:\n",
    "                            self.sendLine(b\"Error occurred during registration. Please try again.\")\n",
    "                    else:\n",
    "                        self.sendLine(b\"Passwords do not match. Please try again.\")\n",
    "            else:\n",
    "                message = line.decode().strip()\n",
    "                if message == 'quit':\n",
    "                    self.transport.loseConnection()\n",
    "                else:\n",
    "                    self.factory.broadcast(f\"{self.name}: {message}\")\n",
    "        except ValueError as e:\n",
    "            self.sendLine(f\"Error: {e}\".encode())\n",
    "        except Exception as e:\n",
    "            self.sendLine(b\"Error occurred. Please try again.\")\n",
    "\n",
    "\n",
    "    def connectionLost(self, reason):\n",
    "        if self in self.factory.clients:\n",
    "            del self.factory.clients[self]\n",
    "            self.factory.broadcast(f\"{self.name} has left the chat.\")\n",
    "        self.cursor.close() \n",
    "        self.conn.close()  \n",
    "        \n",
    "    def register(self, username, password):\n",
    "        try:\n",
    "            if username in self.factory.users:\n",
    "                self.sendLine(b\"Username already taken. Please choose a different username.\")\n",
    "                return False\n",
    "            else:\n",
    "                password_bytes = password.encode('utf-8')\n",
    "                salt = bcrypt.gensalt()\n",
    "                password_hash = bcrypt.hashpw(password_bytes, salt).decode('utf-8')\n",
    "                self.cursor.execute(\"INSERT INTO users (username, password_hash) VALUES (%s, %s);\", (username, password_hash))\n",
    "                self.conn.commit()\n",
    "                self.factory.users[username] = password_hash\n",
    "                return True\n",
    "        except Exception as e:\n",
    "            self.sendLine(b\"Error occurred during registration. Please try again.\")\n",
    "            print(f\"Error: {e}\")\n",
    "            return False\n",
    "\n",
    "    def authenticate(self, username, password):\n",
    "        try:\n",
    "            self.cursor.execute(\"SELECT password_hash FROM users WHERE username = %s;\", (username,))\n",
    "            row = self.cursor.fetchone()\n",
    "            if row is not None:\n",
    "                stored_password_hash = row[0]\n",
    "                password_bytes = password.encode('utf-8')\n",
    "                stored_password_hash_bytes = stored_password_hash.encode('utf-8')\n",
    "                return bcrypt.checkpw(password_bytes, stored_password_hash_bytes)\n",
    "            return False\n",
    "        except Exception as e:\n",
    "            self.sendLine(b\"Error occurred while authenticating. Please try again.\")\n",
    "            print(f\"Error: {e}\")\n",
    "            return False\n"
   ]
  },
  {
   "cell_type": "code",
   "execution_count": 16,
   "id": "96489430-5cf3-4b52-9530-5ff2da551a30",
   "metadata": {},
   "outputs": [],
   "source": [
    "class ChatServerFactory(protocol.Factory):\n",
    "    def __init__(self):\n",
    "        self.clients = {}\n",
    "        self.users = {}\n",
    "        self.conn = psycopg2.connect(\n",
    "            dbname=\"your_db_name\",  # Replace with your database name\n",
    "            user=\"your_username\",  # Replace with your database username\n",
    "            password=\"your_password\",  # Replace with your database password\n",
    "            host=\"your_host\",  # Replace with your database host\n",
    "            port=\"your_port\"  # Replace with your database port\n",
    "        )\n",
    "        self.cursor = self.conn.cursor()"
   ]
  },
  {
   "cell_type": "code",
   "execution_count": 18,
   "id": "4c8515e0-d2f6-4bd5-8f4b-1f6f19a47702",
   "metadata": {},
   "outputs": [
    {
     "name": "stdout",
     "output_type": "stream",
     "text": [
      "Error: Couldn't listen on any:9000: [WinError 10048] Обычно разрешается только одно использование адреса сокета (протокол/сетевой адрес/порт).\n"
     ]
    }
   ],
   "source": [
    "if __name__ == \"__main__\":\n",
    "    try:\n",
    "        factory = ChatServerFactory()\n",
    "        factory.cursor.execute(\"SELECT username, password_hash FROM users;\")\n",
    "        rows = factory.cursor.fetchall()\n",
    "        for row in rows:\n",
    "            factory.users[row[0]] = row[1]\n",
    "\n",
    "        reactor.listenTCP(9000, factory)\n",
    "        print(\"Chat server started on port 9000.\")\n",
    "        reactor.run()\n",
    "    except Exception as e:\n",
    "        print(f\"Error: {e}\")"
   ]
  },
  {
   "cell_type": "code",
   "execution_count": null,
   "id": "d5ef21a6-86b8-459e-899f-9bfe7206b203",
   "metadata": {},
   "outputs": [],
   "source": []
  }
 ],
 "metadata": {
  "kernelspec": {
   "display_name": "Python 3 (ipykernel)",
   "language": "python",
   "name": "python3"
  },
  "language_info": {
   "codemirror_mode": {
    "name": "ipython",
    "version": 3
   },
   "file_extension": ".py",
   "mimetype": "text/x-python",
   "name": "python",
   "nbconvert_exporter": "python",
   "pygments_lexer": "ipython3",
   "version": "3.10.9"
  }
 },
 "nbformat": 4,
 "nbformat_minor": 5
}
